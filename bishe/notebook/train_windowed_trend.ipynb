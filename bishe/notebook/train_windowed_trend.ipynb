{
 "cells": [
  {
   "cell_type": "code",
   "execution_count": 1,
   "metadata": {},
   "outputs": [],
   "source": [
    "import numpy as np\n",
    "import pandas as pd\n",
    "from scipy.optimize import curve_fit\n",
    "import time\n",
    "import datetime\n",
    "start=datetime.datetime.fromtimestamp(time.mktime(time.strptime(time.strftime('%Y-%m-%d %H:%M:%S',time.localtime(time.time())),\"%Y-%m-%d %H:%M:%S\")))\n",
    "# path=r'E:\\svm结构性断点论文\\20180214\\WTIData.xls'\n",
    "path=r'C:\\Users\\Ziyi Wang\\Desktop\\bishe\\realize wangyi\\Data\\Brent-11-15.xlsx'\n",
    "resultsPath = r\"C:\\Users\\Ziyi Wang\\Desktop\\bishe\\realize wangyi\\bishe\\results\\\\\"\n",
    "df = pd.read_excel(path,sheet_name='Sheet1',header=None)"
   ]
  },
  {
   "cell_type": "code",
   "execution_count": null,
   "metadata": {},
   "outputs": [],
   "source": [
    "def Poly2func(x,a,b,c):\n",
    "    return a*np.power(x,2)+b*np.power(x,1)+c\n",
    "\n",
    "\n",
    "def Poly3func(x,a,b,c,d):\n",
    "    return a*np.power(x,3)+b*np.power(x,2)+c*np.power(x,1)+d\n",
    "\n",
    "\n",
    "def Poly4func(x,a,b,c,d,e):\n",
    "    return a*np.power(x,4)+b*np.power(x,3)+c*np.power(x,2)+d*np.power(x,1)+e\n",
    "\n",
    "def getPoly2Params(a,b):\n",
    "    x = np.array(df.loc[a:b, 0])\n",
    "    # y = np.array(df.loc[a:b,1])\n",
    "    y = np.array(range(0, b-a+1))\n",
    "    trend,pocv=curve_fit(Poly2func,x,y)\n",
    "    trend=list(trend)\n",
    "    return trend\n",
    "\n",
    "def getPoly3Params(a,b):\n",
    "    x = np.array(df.loc[a:b,0])\n",
    "    # y = np.array(df.loc[a:b,1])\n",
    "    y = np.array(range(0, b-a+1))\n",
    "    trend,pocv=curve_fit(Poly3func,x,y)\n",
    "    trend=list(trend)\n",
    "    return trend\n",
    "\n",
    "\n",
    "def getPoly4Params(a,b):\n",
    "    x = np.array(df.loc[a:b,0])\n",
    "    # y = np.array(df.loc[a:b,1])\n",
    "    y = np.array(range(0, b-a+1))\n",
    "    trend,pocv=curve_fit(Poly4func,x,y)\n",
    "    trend=list(trend)\n",
    "    return trend\n",
    "\n",
    "def getPoly2MSE(i,j,a,b,c):\n",
    "    x = np.array(df.loc[a:b, 0])\n",
    "    y = np.array(df.loc[i:j,1])\n",
    "    y2 = list(Poly2func(x,a,b,c))\n",
    "    temp = np.power(y2-y,2)\n",
    "    n = np.sum(temp)\n",
    "    return n/len(temp)\n",
    "\n",
    "\n",
    "def getPoly3MSE(i,j,a,b,c,d):\n",
    "    x = np.array(df.loc[i:j,0])\n",
    "    y = np.array(df.loc[i:j,1])\n",
    "    y2 = list(Poly3func(x,a,b,c,d))\n",
    "    temp = np.power(y2-y,2)\n",
    "    n = np.sum(temp)\n",
    "    return n/len(temp)\n",
    "\n",
    "\n",
    "def getPoly4MSE(i,j,a,b,c,d,e):\n",
    "    x = np.array(df.loc[i:j,0])\n",
    "    y = np.array(df.loc[i:j,1])\n",
    "    y2 = list(Poly4func(x,a,b,c,d,e))\n",
    "    temp = np.power(y2-y,2)\n",
    "    n = np.sum(temp)\n",
    "    return n/len(temp)"
   ]
  },
  {
   "cell_type": "code",
   "execution_count": 2,
   "metadata": {},
   "outputs": [],
   "source": [
    "x = np.array(range(0,5))"
   ]
  },
  {
   "cell_type": "code",
   "execution_count": 10,
   "metadata": {},
   "outputs": [
    {
     "name": "stdout",
     "output_type": "stream",
     "text": [
      "[0 1 2 3 4]\n"
     ]
    }
   ],
   "source": [
    "list1 = [1,2,3,4,5]\n",
    "list2 = np.array([1,1,1,1,1])\n",
    "error = list1-list2\n",
    "print(error)"
   ]
  },
  {
   "cell_type": "code",
   "execution_count": null,
   "metadata": {},
   "outputs": [],
   "source": []
  }
 ],
 "metadata": {
  "kernelspec": {
   "display_name": "Python 3",
   "language": "python",
   "name": "python3"
  },
  "language_info": {
   "codemirror_mode": {
    "name": "ipython",
    "version": 3
   },
   "file_extension": ".py",
   "mimetype": "text/x-python",
   "name": "python",
   "nbconvert_exporter": "python",
   "pygments_lexer": "ipython3",
   "version": "3.6.4"
  }
 },
 "nbformat": 4,
 "nbformat_minor": 2
}
