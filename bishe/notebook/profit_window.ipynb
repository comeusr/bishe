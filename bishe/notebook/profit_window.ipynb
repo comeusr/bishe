{
 "cells": [
  {
   "cell_type": "code",
   "execution_count": 27,
   "metadata": {},
   "outputs": [],
   "source": [
    "import numpy as np\n",
    "import pandas as pd\n",
    "import time\n",
    "import datetime\n",
    "start=datetime.datetime.fromtimestamp(time.mktime(time.strptime(time.strftime('%Y-%m-%d %H:%M:%S',time.localtime(time.time())),\"%Y-%m-%d %H:%M:%S\")))\n",
    "\n",
    "path = r'C:\\Users\\Ziyi Wang\\Desktop\\bishe\\realize wangyi\\bishe\\results\\Profit-Poly-6-Params-2019-04-22.csv'\n",
    "oil_price_path = r'C:\\Users\\Ziyi Wang\\Desktop\\bishe\\realize wangyi\\bishe\\results\\profit.csv'\n",
    "trend_df = pd.read_csv(path,header=0)\n",
    "price_df = pd.read_csv(oil_price_path,header=None)\n",
    "\n",
    "trenda = np.array(trend_df.loc[:, 'MSEtrenda'].astype('float64'))\n",
    "trendb = np.array(trend_df.loc[:, 'MSEtrendb'].astype('float64'))\n",
    "trendc = np.array(trend_df.loc[:, 'MSEtrendc'].astype('float64'))\n",
    "trendd = np.array(trend_df.loc[:, 'MSEtrendd'].astype('float64'))\n",
    "trende = np.array(trend_df.loc[:, 'MSEtrende'].astype('float64'))"
   ]
  },
  {
   "cell_type": "code",
   "execution_count": 25,
   "metadata": {},
   "outputs": [
    {
     "name": "stdout",
     "output_type": "stream",
     "text": [
      "   0      1\n",
      "0  1  24.45\n",
      "1  2  24.19\n",
      "2  3  24.76\n",
      "3  4  24.76\n",
      "4  5  24.78\n"
     ]
    }
   ],
   "source": [
    "print(price_df.head())"
   ]
  },
  {
   "cell_type": "code",
   "execution_count": 22,
   "metadata": {},
   "outputs": [],
   "source": [
    "def profit_trend2oil(t, step=6):\n",
    "    oil_price = []\n",
    "    if t <= step:\n",
    "        for time in range(t+1):\n",
    "            temp_result = trenda[t-time]*np.power(time,4)+trendb[t-time]*np.power(time,3)+trendc[t-time]*np.power(time,2)+trendd[t-time]*time+trende[t-time]\n",
    "            oil_price.append(temp_result)\n",
    "    else:\n",
    "        for time in range(step):\n",
    "            temp_result = trenda[t-time]*np.power(time,4)+trendb[t-time]*np.power(time,3)+trendc[t-time]*np.power(time,2)+trendd[t-time]*time+trende[t-time]\n",
    "            oil_price.append(temp_result)\n",
    "            pass\n",
    "\n",
    "    return oil_price"
   ]
  },
  {
   "cell_type": "code",
   "execution_count": 35,
   "metadata": {},
   "outputs": [
    {
     "name": "stdout",
     "output_type": "stream",
     "text": [
      "返回收益 [-7.0000000600876415, -5.000000031471432, -3.0000000141132457, -1.0000000043802886, 1.00000000009954, 3.0000000011254473] 真实收益 -0.6099999999999994\n"
     ]
    }
   ],
   "source": [
    "print('返回收益', profit_trend2oil(7),'真实收益',price_df.loc[7,1])"
   ]
  },
  {
   "cell_type": "code",
   "execution_count": null,
   "metadata": {},
   "outputs": [],
   "source": []
  }
 ],
 "metadata": {
  "kernelspec": {
   "display_name": "Python 3",
   "language": "python",
   "name": "python3"
  },
  "language_info": {
   "codemirror_mode": {
    "name": "ipython",
    "version": 3
   },
   "file_extension": ".py",
   "mimetype": "text/x-python",
   "name": "python",
   "nbconvert_exporter": "python",
   "pygments_lexer": "ipython3",
   "version": "3.6.4"
  }
 },
 "nbformat": 4,
 "nbformat_minor": 2
}
