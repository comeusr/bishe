{
 "cells": [
  {
   "cell_type": "code",
   "execution_count": 2,
   "metadata": {},
   "outputs": [],
   "source": [
    "import pandas as pd \n",
    "import numpy as np \n",
    "path = r'C:\\Users\\Ziyi Wang\\Desktop\\bishe\\realize wangyi\\bishe\\results\\Poly-6-Params-2019-03-24.csv'\n",
    "oil_price_path = r'C:\\Users\\Ziyi Wang\\Desktop\\bishe\\realize wangyi\\Data\\Brent-11-25.xlsm'\n",
    "df = pd.read_csv(path, header=0)\n",
    "price_df = pd.read_excel(oil_price_path, header=None, sheet_name='Sheet1')\n",
    "trenda = np.array(df.loc[:, 'MSEtrenda'].astype('float64'))\n",
    "trendb = np.array(df.loc[:, 'MSEtrendb'].astype('float64'))\n",
    "trendc = np.array(df.loc[:, 'MSEtrendc'].astype('float64'))\n",
    "trendd = np.array(df.loc[:, 'MSEtrendd'].astype('float64'))\n",
    "trende = np.array(df.loc[:, 'MSEtrende'].astype('float64'))"
   ]
  },
  {
   "cell_type": "code",
   "execution_count": 2,
   "metadata": {},
   "outputs": [],
   "source": [
    "def trend2oil(t, step=6):\n",
    "    \"\"\"\n",
    "    将t时刻的趋势向量趋势转换为石油价格\n",
    "    :param a: 时间的起始点\n",
    "    :param b: 趋势向量时间的终点\n",
    "    :param trenda: 从a时刻到b时刻向量趋势中的第1个分量\n",
    "    :param trendb: 从a时刻到b时刻向量趋势中的第2个分量\n",
    "    :param trendc: 从a时刻到b时刻向量趋势中的第3个分量\n",
    "    :param trendd: 从a时刻到b时刻向量趋势中的第4个分量\n",
    "    :param trende: 从a时刻到b时刻向量趋势中的第5个分量\n",
    "    :return: 从a时刻到b时刻的石油价格\n",
    "    \"\"\"\n",
    "    oil_price = []\n",
    "    if t <= step:\n",
    "        for time in range(t+1):\n",
    "            temp_result = trenda[t-time]*np.power(t+1,4)+trendb[t-time]*np.power(t+1,3)+trendc[t-time]*np.power(t+1,2)+trendd[t-time]*(t+1)+trende[t-time]\n",
    "            oil_price.append(temp_result)\n",
    "    else:\n",
    "        for time in range(step):\n",
    "            temp_result = trenda[t-time]*np.power(t+1,4)+trendb[t-time]*np.power(t+1,3)+trendc[t-time]*np.power(t+1,2)+trendd[t-time]*(t+1)+trende[t-time]\n",
    "            oil_price.append(temp_result)\n",
    "            pass\n",
    "\n",
    "    return oil_price"
   ]
  },
  {
   "cell_type": "code",
   "execution_count": 43,
   "metadata": {},
   "outputs": [
    {
     "name": "stdout",
     "output_type": "stream",
     "text": [
      "时刻2的真实油价 24.19 预测油价: [25.611666666653836, 24.18952380819033]\n"
     ]
    }
   ],
   "source": [
    "t = 2\n",
    "print('时刻'+str(t)+'的真实油价', price_df.loc[t-1,1],'预测油价:', trend2oil(t-1))"
   ]
  },
  {
   "cell_type": "code",
   "execution_count": 4,
   "metadata": {},
   "outputs": [],
   "source": [
    "def select_trend(t, step=6):\n",
    "    '''\n",
    "    选择第t个的最优趋势\n",
    "    :param t: 第t个\n",
    "    :param step:\n",
    "    :return: 最优趋势的index，同时返回最优油价\n",
    "    '''\n",
    "    # TODO 还没有写好\n",
    "    true_price = price_df.loc[t,1]\n",
    "    regression_price = trend2oil(t,step=step)\n",
    "    evaluation = []\n",
    "    for price in regression_price:\n",
    "        evaluation.append(abs(true_price-price))\n",
    "    best_index = t-evaluation.index(min(evaluation))\n",
    "    best_price = regression_price[evaluation.index(min(evaluation))]\n",
    "    return best_index, best_price"
   ]
  },
  {
   "cell_type": "code",
   "execution_count": 8,
   "metadata": {},
   "outputs": [
    {
     "data": {
      "text/plain": [
       "213"
      ]
     },
     "execution_count": 8,
     "metadata": {},
     "output_type": "execute_result"
    }
   ],
   "source": [
    "best = select_trend(216)\n",
    "best[0]"
   ]
  },
  {
   "cell_type": "code",
   "execution_count": 7,
   "metadata": {},
   "outputs": [
    {
     "name": "stdout",
     "output_type": "stream",
     "text": [
      "19.96523700794205\n"
     ]
    }
   ],
   "source": [
    "i = 216\n",
    "j = 213 \n",
    "best_price = trenda[j]*np.power(i+1, 4)+trendb[j]*np.power(i+1, 3)\\\n",
    "                     + trendc[j]*np.power(i+1, 2)+trendd[j]*(i+1)+trende[j]\n",
    "    print(best_price)"
   ]
  },
  {
   "cell_type": "code",
   "execution_count": 50,
   "metadata": {},
   "outputs": [
    {
     "name": "stdout",
     "output_type": "stream",
     "text": [
      "213 19.96523700794205\n"
     ]
    }
   ],
   "source": [
    "path = r'C:\\Users\\Ziyi Wang\\Desktop\\bishe\\realize wangyi\\bishe\\results\\Poly-6-Params-2019-02-28.csv'\n",
    "oil_price_path = r'C:\\Users\\Ziyi Wang\\Desktop\\bishe\\realize wangyi\\Data\\Brent-11-25.xlsm'\n",
    "df = pd.read_csv(path, header=0)\n",
    "price_df = pd.read_excel(oil_price_path, header=None, sheet_name='Sheet1')\n",
    "trenda = np.array(df.loc[:, 'MSEtrenda'].astype('float64'))\n",
    "trendb = np.array(df.loc[:, 'MSEtrendb'].astype('float64'))\n",
    "trendc = np.array(df.loc[:, 'MSEtrendc'].astype('float64'))\n",
    "trendd = np.array(df.loc[:, 'MSEtrendd'].astype('float64'))\n",
    "trende = np.array(df.loc[:, 'MSEtrende'].astype('float64'))\n",
    "best_trenda = np.zeros(len(trenda))\n",
    "best_trendb = np.zeros(len(trendb))\n",
    "best_trendc = np.zeros(len(trendc))\n",
    "best_trendd = np.zeros(len(trendd))\n",
    "best_trende = np.zeros(len(trende))\n",
    "for i in range(len(trenda)):\n",
    "    best_index, best_price = select_trend(i)\n",
    "    best_trenda[i] = trenda[best_index]\n",
    "    best_trendb[i] = trendb[best_index]\n",
    "    best_trendc[i] = trendc[best_index]\n",
    "    best_trendd[i] = trendd[best_index]\n",
    "    best_trende[i] = trende[best_index]\n",
    "    if i == 216:\n",
    "        print(best_index, best_price)"
   ]
  },
  {
   "cell_type": "code",
   "execution_count": 31,
   "metadata": {},
   "outputs": [
    {
     "data": {
      "text/plain": [
       "[-23720784.902254492,\n",
       " 2427336.7538189506,\n",
       " -36781874.41348791,\n",
       " -11827.21693085134,\n",
       " -13954369.6179538,\n",
       " 11538941.732406303]"
      ]
     },
     "execution_count": 31,
     "metadata": {},
     "output_type": "execute_result"
    }
   ],
   "source": [
    "trend2oil(745)\n",
    "trend2oil(767)\n",
    "trend2oil(842)"
   ]
  },
  {
   "cell_type": "code",
   "execution_count": 32,
   "metadata": {},
   "outputs": [
    {
     "name": "stdout",
     "output_type": "stream",
     "text": [
      "[-2493907.8237781175, -2501945.1173341135, 19891325.836178474, -2028356353.1868637, 3001581.6676722225, -4205606.976502912]\n",
      "[76119073.46318601, -2493908.076561456, -2501944.8224112727, 19891326.033573344, -2026941155.4295084, 3001581.894300917]\n",
      "[155979479.6109411, 76036496.02985153, -2493908.355020627, -2501944.7676669313, 19891325.983803153, -2025997690.3273494]\n",
      "[17577466.94380059, 155931600.12032193, 75953918.44644158, -2493908.6556716436, -2501944.9496058803, 19891325.65908008]\n",
      "[-231869947.57847348, 17549287.590068072, 155883721.02532268, 75871340.87321328, -2493908.975030516, -2501945.3647329025]\n"
     ]
    }
   ],
   "source": [
    "print(trend2oil(1342))\n",
    "print(trend2oil(1343))\n",
    "print(trend2oil(1344))\n",
    "print(trend2oil(1345))\n",
    "print(trend2oil(1346))"
   ]
  },
  {
   "cell_type": "code",
   "execution_count": 41,
   "metadata": {},
   "outputs": [
    {
     "name": "stdout",
     "output_type": "stream",
     "text": [
      "0.0 0.0005806645140918124 -2.3540772367060723 3180.8677631667188 -1432493.0827792422\n"
     ]
    }
   ],
   "source": [
    "t = 1342\n",
    "price_1342 = trenda[t-3]*np.power(t,4)+trendb[t-3]*np.power(t,3)+trendc[t-3]*np.power(t+1,2)+trendd[t-3]*(t+1)+trende[t-3]\n",
    "print(trenda[t],trendb[t],trendc[t],trendd[t],trende[t])"
   ]
  },
  {
   "cell_type": "code",
   "execution_count": 40,
   "metadata": {},
   "outputs": [
    {
     "name": "stdout",
     "output_type": "stream",
     "text": [
      "[-2493907.600154597, -2493907.8237781175, -2493908.076561456, -2493908.355020627, -2493908.6556716436, -2493908.975030516]\n"
     ]
    }
   ],
   "source": [
    "price = []\n",
    "for i in range(6):\n",
    "    temp = trenda[t]*np.power(t+i,4)+trendb[t]*np.power(t+i,3)+trendc[t]*np.power(t+i,2)+trendd[t]*(t+i)+trende[t]\n",
    "    price.append(temp)\n",
    "print(price)"
   ]
  },
  {
   "cell_type": "code",
   "execution_count": 51,
   "metadata": {},
   "outputs": [
    {
     "name": "stdout",
     "output_type": "stream",
     "text": [
      "[27.274193947203457, 27.021410608664155, 26.742951438296586, 26.442300421651453, 26.12294154940173, 25.788358804769814]\n",
      "[26.32 26.85 26.98 26.67 25.73 25.8 ]\n",
      "0.2004075638167855\n"
     ]
    }
   ],
   "source": [
    "def Poly4func(x,a,b,c,d,e):\n",
    "    return a*np.power(x,4)+b*np.power(x,3)+c*np.power(x,2)+d*np.power(x,1)+e\n",
    "def getPoly4MSE(i,j,a,b,c,d,e):\n",
    "    x = np.array(price_df.loc[i:j,0])\n",
    "    y = np.array(price_df.loc[i:j,1])\n",
    "    y2 = list(Poly4func(x,a,b,c,d,e))\n",
    "    print(y2)\n",
    "    print(y)\n",
    "    temp = np.power(y2-y,2)\n",
    "    n = np.sum(temp)\n",
    "    return n/len(temp)\n",
    "print(getPoly4MSE(1342,1347,trenda[t],trendb[t],trendc[t],trendd[t],trende[t]))"
   ]
  },
  {
   "cell_type": "code",
   "execution_count": 58,
   "metadata": {},
   "outputs": [
    {
     "name": "stdout",
     "output_type": "stream",
     "text": [
      "[27.274193947203457, 27.021410608664155, 26.742951438296586, 26.442300421651453, 26.12294154940173, 25.788358804769814]\n"
     ]
    }
   ],
   "source": [
    "x = price_df.loc[1342:1347,0]\n",
    "y = list(Poly4func(x,trenda[t],trendb[t],trendc[t],trendd[t],trende[t]))\n",
    "print(y)"
   ]
  },
  {
   "cell_type": "code",
   "execution_count": 63,
   "metadata": {},
   "outputs": [
    {
     "name": "stdout",
     "output_type": "stream",
     "text": [
      "1343\n",
      "1343\n",
      "27.274193947203457\n"
     ]
    }
   ],
   "source": [
    "x = price_df.loc[t,0]\n",
    "temp = trenda[t]*np.power(x,4)+trendb[t]*np.power(x,3)+trendc[t]*np.power(x,2)+trendd[t]*(x)+trende[t]\n",
    "print(x)\n",
    "print(t+1)\n",
    "print(temp)"
   ]
  },
  {
   "cell_type": "code",
   "execution_count": 64,
   "metadata": {},
   "outputs": [
    {
     "name": "stdout",
     "output_type": "stream",
     "text": [
      "1859472129 3253149715201\n"
     ]
    }
   ],
   "source": [
    "print(np.power(t+1,4), np.power(x,4))"
   ]
  },
  {
   "cell_type": "code",
   "execution_count": 67,
   "metadata": {},
   "outputs": [
    {
     "data": {
      "text/plain": [
       "27.274193947203457"
      ]
     },
     "execution_count": 67,
     "metadata": {},
     "output_type": "execute_result"
    }
   ],
   "source": [
    "trenda[t]*np.power(x,4)+trendb[t]*np.power(x,3)+trendc[t]*np.power(x,2)+trendd[t]*x+trende[t]"
   ]
  },
  {
   "cell_type": "code",
   "execution_count": 20,
   "metadata": {},
   "outputs": [
    {
     "name": "stdout",
     "output_type": "stream",
     "text": [
      "7\n",
      "1\n",
      "2\n",
      "3\n",
      "4\n",
      "5\n",
      "6\n",
      "7\n"
     ]
    }
   ],
   "source": [
    "a = 5\n",
    "b = 11\n",
    "# print(df.head())\n",
    "print(len(df.loc[a:b,'MSEtrenda']))\n",
    "for i in range(1,b-a+2):\n",
    "    print(i)"
   ]
  },
  {
   "cell_type": "code",
   "execution_count": null,
   "metadata": {},
   "outputs": [],
   "source": []
  }
 ],
 "metadata": {
  "kernelspec": {
   "display_name": "Python 3",
   "language": "python",
   "name": "python3"
  },
  "language_info": {
   "codemirror_mode": {
    "name": "ipython",
    "version": 3
   },
   "file_extension": ".py",
   "mimetype": "text/x-python",
   "name": "python",
   "nbconvert_exporter": "python",
   "pygments_lexer": "ipython3",
   "version": "3.6.4"
  }
 },
 "nbformat": 4,
 "nbformat_minor": 2
}
